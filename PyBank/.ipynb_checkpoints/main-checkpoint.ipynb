{
 "cells": [
  {
   "cell_type": "code",
   "execution_count": 1,
   "id": "924e022e-ccb2-4162-a852-32a91c1bf31f",
   "metadata": {},
   "outputs": [],
   "source": [
    "import os\n",
    "import csv\n",
    "\n",
    "\n",
    "current_dir = os.getcwd()\n",
    "path_budget_data = os.path.join(current_dir, \"budget_data.csv\")\n",
    "\n",
    "\n",
    "## imported os and csv libraries. The path is stored in a varialble called path_budget_data."
   ]
  },
  {
   "cell_type": "code",
   "execution_count": 2,
   "id": "26bf9838-aaea-420d-b2b8-c2ac1d2154be",
   "metadata": {},
   "outputs": [],
   "source": [
    "##Created a function called read_csv_file to read each row from the csv file budget_data. \n",
    "## All data from csv file will be appended and stored in a list called \"data\".\n",
    "\n",
    "def read_csv_file(file_path):\n",
    "\n",
    "    data = []\n",
    "    with open(file_path,'r') as file:\n",
    "        reader = csv.DictReader(file)\n",
    "        for row in reader:\n",
    "            data.append(dict((row)))\n",
    "    return data\n",
    "\n",
    "data = read_csv_file(path_budget_data)\n"
   ]
  },
  {
   "cell_type": "code",
   "execution_count": 3,
   "id": "d1fc87ba-1034-4e17-ad97-7edf62ad1be3",
   "metadata": {},
   "outputs": [
    {
     "name": "stdout",
     "output_type": "stream",
     "text": [
      "Total Months : 86\n"
     ]
    }
   ],
   "source": [
    "#The total number of months included in the dataset. \n",
    "\n",
    "total_months = len(data)\n",
    "print(f\"Total Months : {total_months}\")\n"
   ]
  },
  {
   "cell_type": "code",
   "execution_count": 4,
   "id": "3977292d-973d-46b4-99ba-69b6b2850cba",
   "metadata": {},
   "outputs": [
    {
     "name": "stdout",
     "output_type": "stream",
     "text": [
      "Total: $38382578\n"
     ]
    }
   ],
   "source": [
    "##The net total amount of Profit/Losses over the entire period.\n",
    "\n",
    "net_total = 0\n",
    "\n",
    "for row in data:\n",
    "    profit_loss = int(row['Profit/Losses'])\n",
    "    net_total += profit_loss\n",
    "\n",
    "print(f\"Total: ${net_total}\")\n",
    "\n",
    "\n"
   ]
  },
  {
   "cell_type": "code",
   "execution_count": null,
   "id": "137962af-4300-4b8e-87ba-34accc6b4432",
   "metadata": {},
   "outputs": [],
   "source": []
  }
 ],
 "metadata": {
  "kernelspec": {
   "display_name": "Python 3 (ipykernel)",
   "language": "python",
   "name": "python3"
  },
  "language_info": {
   "codemirror_mode": {
    "name": "ipython",
    "version": 3
   },
   "file_extension": ".py",
   "mimetype": "text/x-python",
   "name": "python",
   "nbconvert_exporter": "python",
   "pygments_lexer": "ipython3",
   "version": "3.10.9"
  }
 },
 "nbformat": 4,
 "nbformat_minor": 5
}
